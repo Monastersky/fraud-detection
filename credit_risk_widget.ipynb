{
 "cells": [
  {
   "cell_type": "markdown",
   "metadata": {},
   "source": [
    "# Creating Widget to Create Live Predictions"
   ]
  },
  {
   "cell_type": "code",
   "execution_count": 1,
   "metadata": {},
   "outputs": [],
   "source": [
    "#Used code from https://github.com/hussainburhani/ds_bike_startup/blob/master/code/mlr_general_cycles_demo.ipynb \n",
    "#for assistance in creating the widget.\n",
    "\n",
    "#Importing Libraries\n",
    "\n",
    "import numpy as np\n",
    "import pandas as pd\n",
    "import matplotlib.pyplot as plt\n",
    "import seaborn as sns\n",
    "\n",
    "from sklearn.pipeline import Pipeline\n",
    "from sklearn.model_selection import GridSearchCV\n",
    "from sklearn.ensemble import RandomForestClassifier\n",
    "\n",
    "from ipywidgets import widgets, interact, interact_manual, fixed\n",
    "from IPython.display import display, clear_output, HTML\n",
    "from imblearn.over_sampling import SMOTE\n"
   ]
  },
  {
   "cell_type": "code",
   "execution_count": 2,
   "metadata": {},
   "outputs": [],
   "source": [
    "#Importing data and creating sample dataframe\n",
    "\n",
    "\n",
    "fraud = pd.read_csv('../data/creditcard.csv')"
   ]
  },
  {
   "cell_type": "code",
   "execution_count": 3,
   "metadata": {},
   "outputs": [],
   "source": [
    "X_fraud = fraud.drop(columns=['Class'])\n",
    "y_fraud = fraud['Class']"
   ]
  },
  {
   "cell_type": "code",
   "execution_count": 4,
   "metadata": {},
   "outputs": [],
   "source": [
    "fraud_only = fraud[fraud[\"Class\"] == 1]\n",
    "non_fraud = fraud[fraud[\"Class\"] == 0].sample(n=50000)"
   ]
  },
  {
   "cell_type": "code",
   "execution_count": 5,
   "metadata": {},
   "outputs": [],
   "source": [
    "sample_fraud = pd.concat([fraud_only, non_fraud])\n",
    "X_30 = sample_fraud.drop(columns=['Class'])\n",
    "y_30 = sample_fraud['Class']"
   ]
  },
  {
   "cell_type": "code",
   "execution_count": 6,
   "metadata": {},
   "outputs": [],
   "source": [
    "sm_30 = SMOTE(sampling_strategy= 1, kind ='regular', random_state=2019)\n",
    "X_sample, y_sample = sm_30.fit_sample(X_30, y_30.ravel())"
   ]
  },
  {
   "cell_type": "code",
   "execution_count": 7,
   "metadata": {},
   "outputs": [],
   "source": [
    "#Creating function to make predictions\n",
    "\n",
    "def on_predict_submit(incoming):\n",
    "    # Insert values into dataframe\n",
    "    X_input = []\n",
    "    X_input = pd.DataFrame(columns=['Time', 'V1', 'V2', 'V3', 'V4','V5', 'V6', 'V7', 'V8', 'V9', 'V10', \n",
    "                                   'V11', 'V12', 'V13', 'V14', 'V15', 'V16', 'V17', 'V18', 'V19', 'V20', 'V21',\n",
    "                                   'V22', 'V23', 'V24', 'V25', 'V26', 'V27', 'V28', 'Amount'])\n",
    "    input_variables = [input_Time.value, input_V1.value, input_V2.value,\n",
    "                   input_V3.value, input_V4.value, input_V5.value, input_V6.value, \n",
    "                   input_V7.value, input_V8.value, input_V9.value, input_V10.value, \n",
    "                   input_V11.value, input_V12.value, input_V13.value, input_V14.value, \n",
    "                   input_V15.value, input_V16.value, input_V17.value, input_V18.value, \n",
    "                   input_V19.value, input_V20.value, input_V21.value, input_V22.value, \n",
    "                   input_V23.value, input_V24.value, input_V25.value, input_V26.value,\n",
    "                   input_V27.value, input_V28.value, input_Amount.value]\n",
    "\n",
    "    X_input.loc[1] = [x for x in input_variables]\n",
    "\n",
    "    def fraud_or_not():\n",
    "        if rf_fitted.predict(X_input)[0] == 0:\n",
    "            return 'not fraud'\n",
    "        elif rf.predict(X_input)[0] == 1:\n",
    "            return 'fraud'\n",
    "        else:\n",
    "            return 'error'\n",
    "    print(f\"The credit card charge is {fraud_or_not()}\")"
   ]
  },
  {
   "cell_type": "code",
   "execution_count": 8,
   "metadata": {
    "scrolled": true
   },
   "outputs": [
    {
     "data": {
      "application/vnd.jupyter.widget-view+json": {
       "model_id": "f63d4885b8dd4dcf9233640452a5b910",
       "version_major": 2,
       "version_minor": 0
      },
      "text/plain": [
       "FloatText(value=100.0, description='Time', step=100.0)"
      ]
     },
     "metadata": {},
     "output_type": "display_data"
    },
    {
     "data": {
      "application/vnd.jupyter.widget-view+json": {
       "model_id": "d2b7e443a8884891b7d4118af13a695e",
       "version_major": 2,
       "version_minor": 0
      },
      "text/plain": [
       "FloatText(value=1.0, description='V1', step=0.1)"
      ]
     },
     "metadata": {},
     "output_type": "display_data"
    },
    {
     "data": {
      "application/vnd.jupyter.widget-view+json": {
       "model_id": "a0fed9c656d545bb8d33593a8305980f",
       "version_major": 2,
       "version_minor": 0
      },
      "text/plain": [
       "FloatText(value=1.0, description='V2', step=0.1)"
      ]
     },
     "metadata": {},
     "output_type": "display_data"
    },
    {
     "data": {
      "application/vnd.jupyter.widget-view+json": {
       "model_id": "6be69140c9ae4d968d32df73ba414040",
       "version_major": 2,
       "version_minor": 0
      },
      "text/plain": [
       "FloatText(value=1.0, description='V3', step=0.1)"
      ]
     },
     "metadata": {},
     "output_type": "display_data"
    },
    {
     "data": {
      "application/vnd.jupyter.widget-view+json": {
       "model_id": "893003c095184a8ca028da3a287d9b08",
       "version_major": 2,
       "version_minor": 0
      },
      "text/plain": [
       "FloatText(value=1.0, description='V4', step=0.1)"
      ]
     },
     "metadata": {},
     "output_type": "display_data"
    },
    {
     "data": {
      "application/vnd.jupyter.widget-view+json": {
       "model_id": "7bf6031e9ee74febb5180d808eeb1957",
       "version_major": 2,
       "version_minor": 0
      },
      "text/plain": [
       "FloatText(value=1.0, description='V5', step=0.1)"
      ]
     },
     "metadata": {},
     "output_type": "display_data"
    },
    {
     "data": {
      "application/vnd.jupyter.widget-view+json": {
       "model_id": "d63f68e9598d45878cb6bb5492e34b5e",
       "version_major": 2,
       "version_minor": 0
      },
      "text/plain": [
       "FloatText(value=1.0, description='V6', step=0.1)"
      ]
     },
     "metadata": {},
     "output_type": "display_data"
    },
    {
     "data": {
      "application/vnd.jupyter.widget-view+json": {
       "model_id": "5c76809f233142e28eeb4f70ad150fdd",
       "version_major": 2,
       "version_minor": 0
      },
      "text/plain": [
       "FloatText(value=1.0, description='V6', step=0.1)"
      ]
     },
     "metadata": {},
     "output_type": "display_data"
    },
    {
     "data": {
      "application/vnd.jupyter.widget-view+json": {
       "model_id": "872e7946bf7a4277873e0fa11ef5040e",
       "version_major": 2,
       "version_minor": 0
      },
      "text/plain": [
       "FloatText(value=1.0, description='V7', step=0.1)"
      ]
     },
     "metadata": {},
     "output_type": "display_data"
    },
    {
     "data": {
      "application/vnd.jupyter.widget-view+json": {
       "model_id": "dc97d42c272d4c008010367bacab0ae9",
       "version_major": 2,
       "version_minor": 0
      },
      "text/plain": [
       "FloatText(value=1.0, description='V8', step=0.1)"
      ]
     },
     "metadata": {},
     "output_type": "display_data"
    },
    {
     "data": {
      "application/vnd.jupyter.widget-view+json": {
       "model_id": "927e650f629045f2b8c391de70fbc682",
       "version_major": 2,
       "version_minor": 0
      },
      "text/plain": [
       "FloatText(value=1.0, description='V9', step=0.1)"
      ]
     },
     "metadata": {},
     "output_type": "display_data"
    },
    {
     "data": {
      "application/vnd.jupyter.widget-view+json": {
       "model_id": "b9e5abfce89a4ce08b33212e7d2b05c9",
       "version_major": 2,
       "version_minor": 0
      },
      "text/plain": [
       "FloatText(value=1.0, description='V10', step=0.1)"
      ]
     },
     "metadata": {},
     "output_type": "display_data"
    },
    {
     "data": {
      "application/vnd.jupyter.widget-view+json": {
       "model_id": "340493a54cfc4998b484dc2c12d21064",
       "version_major": 2,
       "version_minor": 0
      },
      "text/plain": [
       "FloatText(value=1.0, description='V11', step=0.1)"
      ]
     },
     "metadata": {},
     "output_type": "display_data"
    },
    {
     "data": {
      "application/vnd.jupyter.widget-view+json": {
       "model_id": "c3f0f80d9316439486f95540a106090a",
       "version_major": 2,
       "version_minor": 0
      },
      "text/plain": [
       "FloatText(value=1.0, description='V12', step=0.1)"
      ]
     },
     "metadata": {},
     "output_type": "display_data"
    },
    {
     "data": {
      "application/vnd.jupyter.widget-view+json": {
       "model_id": "52ffd19da535472992075d566b4ee6db",
       "version_major": 2,
       "version_minor": 0
      },
      "text/plain": [
       "FloatText(value=1.0, description='V13', step=0.1)"
      ]
     },
     "metadata": {},
     "output_type": "display_data"
    },
    {
     "data": {
      "application/vnd.jupyter.widget-view+json": {
       "model_id": "7f3592fe5cdc40a79467d96e9d7ee542",
       "version_major": 2,
       "version_minor": 0
      },
      "text/plain": [
       "FloatText(value=1.0, description='V14', step=0.1)"
      ]
     },
     "metadata": {},
     "output_type": "display_data"
    },
    {
     "data": {
      "application/vnd.jupyter.widget-view+json": {
       "model_id": "af6438a8211d43cf9d5f6208884a3f0f",
       "version_major": 2,
       "version_minor": 0
      },
      "text/plain": [
       "FloatText(value=1.0, description='V15', step=0.1)"
      ]
     },
     "metadata": {},
     "output_type": "display_data"
    },
    {
     "data": {
      "application/vnd.jupyter.widget-view+json": {
       "model_id": "fcf0b5e75f564e75829aba6394bae394",
       "version_major": 2,
       "version_minor": 0
      },
      "text/plain": [
       "FloatText(value=1.0, description='V16', step=0.1)"
      ]
     },
     "metadata": {},
     "output_type": "display_data"
    },
    {
     "data": {
      "application/vnd.jupyter.widget-view+json": {
       "model_id": "c84d4442cf1141719e1214ff3177d40c",
       "version_major": 2,
       "version_minor": 0
      },
      "text/plain": [
       "FloatText(value=1.0, description='V17', step=0.1)"
      ]
     },
     "metadata": {},
     "output_type": "display_data"
    },
    {
     "data": {
      "application/vnd.jupyter.widget-view+json": {
       "model_id": "f19fad5466354ad2b030bda6aead269d",
       "version_major": 2,
       "version_minor": 0
      },
      "text/plain": [
       "FloatText(value=1.0, description='V18', step=0.1)"
      ]
     },
     "metadata": {},
     "output_type": "display_data"
    },
    {
     "data": {
      "application/vnd.jupyter.widget-view+json": {
       "model_id": "98c9195eae5b42749c51cfd431be8289",
       "version_major": 2,
       "version_minor": 0
      },
      "text/plain": [
       "FloatText(value=1.0, description='V19', step=0.1)"
      ]
     },
     "metadata": {},
     "output_type": "display_data"
    },
    {
     "data": {
      "application/vnd.jupyter.widget-view+json": {
       "model_id": "704e2aa388064652ae3a21b4164b2ec0",
       "version_major": 2,
       "version_minor": 0
      },
      "text/plain": [
       "FloatText(value=1.0, description='V20', step=0.1)"
      ]
     },
     "metadata": {},
     "output_type": "display_data"
    },
    {
     "data": {
      "application/vnd.jupyter.widget-view+json": {
       "model_id": "66f9fc54b8584c8195ed26025370ab84",
       "version_major": 2,
       "version_minor": 0
      },
      "text/plain": [
       "FloatText(value=1.0, description='V21', step=0.1)"
      ]
     },
     "metadata": {},
     "output_type": "display_data"
    },
    {
     "data": {
      "application/vnd.jupyter.widget-view+json": {
       "model_id": "e910a58e2b8b4d5bb2eaac4a53485570",
       "version_major": 2,
       "version_minor": 0
      },
      "text/plain": [
       "FloatText(value=1.0, description='V22', step=0.1)"
      ]
     },
     "metadata": {},
     "output_type": "display_data"
    },
    {
     "data": {
      "application/vnd.jupyter.widget-view+json": {
       "model_id": "fd5bf8d222954639a7eea9170f995c35",
       "version_major": 2,
       "version_minor": 0
      },
      "text/plain": [
       "FloatText(value=1.0, description='V23', step=0.1)"
      ]
     },
     "metadata": {},
     "output_type": "display_data"
    },
    {
     "data": {
      "application/vnd.jupyter.widget-view+json": {
       "model_id": "50dc0ff607f547ab8883537cdebd7f96",
       "version_major": 2,
       "version_minor": 0
      },
      "text/plain": [
       "FloatText(value=1.0, description='V24', step=0.1)"
      ]
     },
     "metadata": {},
     "output_type": "display_data"
    },
    {
     "data": {
      "application/vnd.jupyter.widget-view+json": {
       "model_id": "54a3535bdb7948aa91fc722f09b59d8a",
       "version_major": 2,
       "version_minor": 0
      },
      "text/plain": [
       "FloatText(value=1.0, description='V25', step=0.1)"
      ]
     },
     "metadata": {},
     "output_type": "display_data"
    },
    {
     "data": {
      "application/vnd.jupyter.widget-view+json": {
       "model_id": "464aac68b6ae495c97b586702b82d163",
       "version_major": 2,
       "version_minor": 0
      },
      "text/plain": [
       "FloatText(value=1.0, description='V26', step=0.1)"
      ]
     },
     "metadata": {},
     "output_type": "display_data"
    },
    {
     "data": {
      "application/vnd.jupyter.widget-view+json": {
       "model_id": "25afc07b213f43fda51f9f870ba75f25",
       "version_major": 2,
       "version_minor": 0
      },
      "text/plain": [
       "FloatText(value=1.0, description='V27', step=0.1)"
      ]
     },
     "metadata": {},
     "output_type": "display_data"
    },
    {
     "data": {
      "application/vnd.jupyter.widget-view+json": {
       "model_id": "5b55ff4f1cd24f39ac01cc2c8436e29b",
       "version_major": 2,
       "version_minor": 0
      },
      "text/plain": [
       "FloatText(value=1.0, description='V28', step=0.1)"
      ]
     },
     "metadata": {},
     "output_type": "display_data"
    },
    {
     "data": {
      "application/vnd.jupyter.widget-view+json": {
       "model_id": "5033443319334aac8a59c81633d925b9",
       "version_major": 2,
       "version_minor": 0
      },
      "text/plain": [
       "FloatText(value=300.0, description='Amount', step=50.0)"
      ]
     },
     "metadata": {},
     "output_type": "display_data"
    },
    {
     "data": {
      "application/vnd.jupyter.widget-view+json": {
       "model_id": "d815f2ec70554d4bbfe0b35399a47723",
       "version_major": 2,
       "version_minor": 0
      },
      "text/plain": [
       "Button(description='Predict', icon='check', style=ButtonStyle(), tooltip='Predict')"
      ]
     },
     "metadata": {},
     "output_type": "display_data"
    },
    {
     "name": "stdout",
     "output_type": "stream",
     "text": [
      "The credit card charge is not fraud\n"
     ]
    }
   ],
   "source": [
    "# Creating the widgets for each of my X variables.\n",
    "input_Time = widgets.FloatText(\n",
    "    value=100,\n",
    "    min=0,\n",
    "    max=10_000,\n",
    "    step=100,\n",
    "    description='Time',\n",
    "    disabled=False,\n",
    "    continuous_update=False,\n",
    "    orientation='horizontal',\n",
    "    readout=True,\n",
    "    readout_format='.1f',\n",
    ")\n",
    "display(input_Time)\n",
    "\n",
    "# Input V1\n",
    "\n",
    "input_V1 = widgets.FloatText(\n",
    "    value=1,\n",
    "    min=-10,\n",
    "    max=10,\n",
    "    step=.1,\n",
    "    description='V1',\n",
    "    disabled=False,\n",
    "    continuous_update=False,\n",
    "    orientation='horizontal',\n",
    "    readout=True,\n",
    "    readout_format='.1f',\n",
    ")\n",
    "display(input_V1)\n",
    "\n",
    "# Input is_workingday\n",
    "\n",
    "input_V2 = widgets.FloatText(\n",
    "    value=1,\n",
    "    min=-10,\n",
    "    max=10,\n",
    "    step=.1,\n",
    "    description='V2',\n",
    "    disabled=False,\n",
    "    continuous_update=False,\n",
    "    orientation='horizontal',\n",
    "    readout=True,\n",
    "    readout_format='.1f',\n",
    ")\n",
    "display(input_V2)\n",
    "\n",
    "input_V3 = widgets.FloatText(\n",
    "    value=1,\n",
    "    min=-10,\n",
    "    max=10,\n",
    "    step=.1,\n",
    "    description='V3',\n",
    "    disabled=False,\n",
    "    continuous_update=False,\n",
    "    orientation='horizontal',\n",
    "    readout=True,\n",
    "    readout_format='.1f',\n",
    ")\n",
    "display(input_V3)\n",
    "\n",
    "input_V4 = widgets.FloatText(\n",
    "    value=1,\n",
    "    min=-10,\n",
    "    max=10,\n",
    "    step=.1,\n",
    "    description='V4',\n",
    "    disabled=False,\n",
    "    continuous_update=False,\n",
    "    orientation='horizontal',\n",
    "    readout=True,\n",
    "    readout_format='.1f',\n",
    ")\n",
    "\n",
    "display(input_V4)\n",
    "\n",
    "# Input temp\n",
    "input_V5 = widgets.FloatText(\n",
    "    value=1.0,\n",
    "    min=-10,\n",
    "    max=10,\n",
    "    step=0.1,\n",
    "    description='V5',\n",
    "    disabled=False,\n",
    "    continuous_update=False,\n",
    "    orientation='horizontal',\n",
    "    readout=True,\n",
    "    readout_format='.1f',\n",
    ")\n",
    "display(input_V5)\n",
    "\n",
    "# Input temp_feel\n",
    "input_V6 = widgets.FloatText(\n",
    "    value=1.0,\n",
    "    min=-10,\n",
    "    max=10,\n",
    "    step=0.1,\n",
    "    description='V6',\n",
    "    disabled=False,\n",
    "    continuous_update=False,\n",
    "    orientation='horizontal',\n",
    "    readout=True,\n",
    "    readout_format='.1f',\n",
    ")\n",
    "display(input_V6)\n",
    "\n",
    "# Input humidity\n",
    "input_V6 = widgets.FloatText(\n",
    "    value=1.0,\n",
    "    min=-10,\n",
    "    max=19,\n",
    "    step=0.1,\n",
    "    description='V6',\n",
    "    disabled=False,\n",
    "    continuous_update=False,\n",
    "    orientation='horizontal',\n",
    "    readout=True,\n",
    "    readout_format='.2f',\n",
    ")\n",
    "display(input_V6)\n",
    "\n",
    "# Input windspeed\n",
    "input_V7 = widgets.FloatText(\n",
    "    value=1.0,\n",
    "    min=-10,\n",
    "    max=10,\n",
    "    step=0.1,\n",
    "    description='V7',\n",
    "    disabled=False,\n",
    "    continuous_update=False,\n",
    "    orientation='horizontal',\n",
    "    readout=True,\n",
    "    readout_format='.2f',\n",
    ")\n",
    "display(input_V7)\n",
    "\n",
    "input_V8 = widgets.FloatText(\n",
    "    value=1.0,\n",
    "    min=-10,\n",
    "    max=10,\n",
    "    step=0.1,\n",
    "    description='V8',\n",
    "    disabled=False,\n",
    "    continuous_update=False,\n",
    "    orientation='horizontal',\n",
    "    readout=True,\n",
    "    readout_format='.2f',\n",
    ")\n",
    "display(input_V8)\n",
    "\n",
    "input_V9 = widgets.FloatText(\n",
    "    value=1.0,\n",
    "    min=-10,\n",
    "    max=10,\n",
    "    step=0.1,\n",
    "    description='V9',\n",
    "    disabled=False,\n",
    "    continuous_update=False,\n",
    "    orientation='horizontal',\n",
    "    readout=True,\n",
    "    readout_format='.2f',\n",
    ")\n",
    "display(input_V9)\n",
    "\n",
    "input_V10 = widgets.FloatText(\n",
    "    value=1.0,\n",
    "    min=-10,\n",
    "    max=10,\n",
    "    step=0.1,\n",
    "    description='V10',\n",
    "    disabled=False,\n",
    "    continuous_update=False,\n",
    "    orientation='horizontal',\n",
    "    readout=True,\n",
    "    readout_format='.2f',\n",
    ")\n",
    "display(input_V10)\n",
    "\n",
    "input_V11 = widgets.FloatText(\n",
    "    value=1.0,\n",
    "    min=-10,\n",
    "    max=10,\n",
    "    step=0.1,\n",
    "    description='V11',\n",
    "    disabled=False,\n",
    "    continuous_update=False,\n",
    "    orientation='horizontal',\n",
    "    readout=True,\n",
    "    readout_format='.2f',\n",
    ")\n",
    "display(input_V11)\n",
    "\n",
    "input_V12 = widgets.FloatText(\n",
    "    value=1.0,\n",
    "    min=-10,\n",
    "    max=10,\n",
    "    step=0.1,\n",
    "    description='V12',\n",
    "    disabled=False,\n",
    "    continuous_update=False,\n",
    "    orientation='horizontal',\n",
    "    readout=True,\n",
    "    readout_format='.2f',\n",
    ")\n",
    "display(input_V12)\n",
    "\n",
    "input_V13 = widgets.FloatText(\n",
    "    value=1.0,\n",
    "    min=-10,\n",
    "    max=10,\n",
    "    step=0.1,\n",
    "    description='V13',\n",
    "    disabled=False,\n",
    "    continuous_update=False,\n",
    "    orientation='horizontal',\n",
    "    readout=True,\n",
    "    readout_format='.2f',\n",
    ")\n",
    "display(input_V13)\n",
    "\n",
    "input_V14 = widgets.FloatText(\n",
    "    value=1.0,\n",
    "    min=-10,\n",
    "    max=10,\n",
    "    step=0.1,\n",
    "    description='V14',\n",
    "    disabled=False,\n",
    "    continuous_update=False,\n",
    "    orientation='horizontal',\n",
    "    readout=True,\n",
    "    readout_format='.2f',\n",
    ")\n",
    "display(input_V14)\n",
    "\n",
    "input_V15 = widgets.FloatText(\n",
    "    value=1.0,\n",
    "    min=-10,\n",
    "    max=10,\n",
    "    step=0.1,\n",
    "    description='V15',\n",
    "    disabled=False,\n",
    "    continuous_update=False,\n",
    "    orientation='horizontal',\n",
    "    readout=True,\n",
    "    readout_format='.2f',\n",
    ")\n",
    "display(input_V15)\n",
    "\n",
    "input_V16 = widgets.FloatText(\n",
    "    value=1.0,\n",
    "    min=-10,\n",
    "    max=10,\n",
    "    step=0.1,\n",
    "    description='V16',\n",
    "    disabled=False,\n",
    "    continuous_update=False,\n",
    "    orientation='horizontal',\n",
    "    readout=True,\n",
    "    readout_format='.2f',\n",
    ")\n",
    "display(input_V16)\n",
    "\n",
    "input_V17 = widgets.FloatText(\n",
    "    value=1.0,\n",
    "    min=-10,\n",
    "    max=10,\n",
    "    step=0.1,\n",
    "    description='V17',\n",
    "    disabled=False,\n",
    "    continuous_update=False,\n",
    "    orientation='horizontal',\n",
    "    readout=True,\n",
    "    readout_format='.2f',\n",
    ")\n",
    "display(input_V17)\n",
    "\n",
    "input_V18 = widgets.FloatText(\n",
    "    value=1.0,\n",
    "    min=-10,\n",
    "    max=10,\n",
    "    step=0.1,\n",
    "    description='V18',\n",
    "    disabled=False,\n",
    "    continuous_update=False,\n",
    "    orientation='horizontal',\n",
    "    readout=True,\n",
    "    readout_format='.2f',\n",
    ")\n",
    "display(input_V18)\n",
    "\n",
    "input_V19 = widgets.FloatText(\n",
    "    value=1.0,\n",
    "    min=-10,\n",
    "    max=10,\n",
    "    step=0.1,\n",
    "    description='V19',\n",
    "    disabled=False,\n",
    "    continuous_update=False,\n",
    "    orientation='horizontal',\n",
    "    readout=True,\n",
    "    readout_format='.2f',\n",
    ")\n",
    "display(input_V19)\n",
    "\n",
    "input_V20 = widgets.FloatText(\n",
    "    value=1.0,\n",
    "    min=-10,\n",
    "    max=10,\n",
    "    step=0.1,\n",
    "    description='V20',\n",
    "    disabled=False,\n",
    "    continuous_update=False,\n",
    "    orientation='horizontal',\n",
    "    readout=True,\n",
    "    readout_format='.2f',\n",
    ")\n",
    "display(input_V20)\n",
    "\n",
    "input_V21 = widgets.FloatText(\n",
    "    value=1.0,\n",
    "    min=-10,\n",
    "    max=10,\n",
    "    step=0.1,\n",
    "    description='V21',\n",
    "    disabled=False,\n",
    "    continuous_update=False,\n",
    "    orientation='horizontal',\n",
    "    readout=True,\n",
    "    readout_format='.2f',\n",
    ")\n",
    "display(input_V21)\n",
    "\n",
    "input_V22 = widgets.FloatText(\n",
    "    value=1.0,\n",
    "    min=-10,\n",
    "    max=10,\n",
    "    step=0.1,\n",
    "    description='V22',\n",
    "    disabled=False,\n",
    "    continuous_update=False,\n",
    "    orientation='horizontal',\n",
    "    readout=True,\n",
    "    readout_format='.2f',\n",
    ")\n",
    "display(input_V22)\n",
    "\n",
    "input_V23 = widgets.FloatText(\n",
    "    value=1.0,\n",
    "    min=-10,\n",
    "    max=10,\n",
    "    step=0.1,\n",
    "    description='V23',\n",
    "    disabled=False,\n",
    "    continuous_update=False,\n",
    "    orientation='horizontal',\n",
    "    readout=True,\n",
    "    readout_format='.2f',\n",
    ")\n",
    "display(input_V23)\n",
    "\n",
    "input_V24 = widgets.FloatText(\n",
    "    value=1.0,\n",
    "    min=-10,\n",
    "    max=10,\n",
    "    step=0.1,\n",
    "    description='V24',\n",
    "    disabled=False,\n",
    "    continuous_update=False,\n",
    "    orientation='horizontal',\n",
    "    readout=True,\n",
    "    readout_format='.2f',\n",
    ")\n",
    "display(input_V24)\n",
    "\n",
    "input_V25 = widgets.FloatText(\n",
    "    value=1.0,\n",
    "    min=-10,\n",
    "    max=10,\n",
    "    step=0.1,\n",
    "    description='V25',\n",
    "    disabled=False,\n",
    "    continuous_update=False,\n",
    "    orientation='horizontal',\n",
    "    readout=True,\n",
    "    readout_format='.2f',\n",
    ")\n",
    "display(input_V25)\n",
    "\n",
    "input_V26 = widgets.FloatText(\n",
    "    value=1.0,\n",
    "    min=-10,\n",
    "    max=10,\n",
    "    step=0.1,\n",
    "    description='V26',\n",
    "    disabled=False,\n",
    "    continuous_update=False,\n",
    "    orientation='horizontal',\n",
    "    readout=True,\n",
    "    readout_format='.2f',\n",
    ")\n",
    "display(input_V26)\n",
    "\n",
    "input_V27 = widgets.FloatText(\n",
    "    value=1.0,\n",
    "    min=-10,\n",
    "    max=10,\n",
    "    step=0.1,\n",
    "    description='V27',\n",
    "    disabled=False,\n",
    "    continuous_update=False,\n",
    "    orientation='horizontal',\n",
    "    readout=True,\n",
    "    readout_format='.2f',\n",
    ")\n",
    "display(input_V27)\n",
    "\n",
    "input_V28 = widgets.FloatText(\n",
    "    value=1.0,\n",
    "    min=-10,\n",
    "    max=10,\n",
    "    step=0.1,\n",
    "    description='V28',\n",
    "    disabled=False,\n",
    "    continuous_update=False,\n",
    "    orientation='horizontal',\n",
    "    readout=True,\n",
    "    readout_format='.2f',\n",
    ")\n",
    "display(input_V28)\n",
    "\n",
    "input_Amount = widgets.FloatText(\n",
    "    value=300.0,\n",
    "    min=0,\n",
    "    max=100_000,\n",
    "    step=50,\n",
    "    description='Amount',\n",
    "    disabled=False,\n",
    "    continuous_update=False,\n",
    "    orientation='horizontal',\n",
    "    readout=True,\n",
    "    readout_format='.1f',\n",
    ")\n",
    "display(input_Amount)\n",
    "\n",
    "# Input Predict\n",
    "input_predict = widgets.Button(\n",
    "    value=False,\n",
    "    description='Predict',\n",
    "    disabled=False,\n",
    "    button_style='', # 'success', 'info', 'warning', 'danger' or ''\n",
    "    tooltip='Predict',\n",
    "    icon='check'\n",
    ")\n",
    "display(input_predict)\n",
    "input_predict.on_click(on_predict_submit)"
   ]
  },
  {
   "cell_type": "code",
   "execution_count": 9,
   "metadata": {},
   "outputs": [],
   "source": [
    "#Create my random forest model and fit my data.\n",
    "\n",
    "rf = RandomForestClassifier(max_features='log2', n_estimators=300)\n",
    "rf_fitted = rf.fit(X_sample, y_sample)"
   ]
  },
  {
   "cell_type": "code",
   "execution_count": 10,
   "metadata": {},
   "outputs": [
    {
     "data": {
      "text/html": [
       "<script>\n",
       "code_show=true; \n",
       "function code_toggle() {\n",
       " if (code_show){\n",
       " $('div.input').hide();\n",
       " } else {\n",
       " $('div.input').show();\n",
       " }\n",
       " code_show = !code_show\n",
       "} \n",
       "$( document ).ready(code_toggle);\n",
       "</script><a href=\"javascript:code_toggle()\">View</a> the widget."
      ],
      "text/plain": [
       "<IPython.core.display.HTML object>"
      ]
     },
     "execution_count": 10,
     "metadata": {},
     "output_type": "execute_result"
    }
   ],
   "source": [
    "#HTML Code allows you to just to see the widget without the rest of the code\n",
    "\n",
    "HTML('''<script>\n",
    "code_show=true; \n",
    "function code_toggle() {\n",
    " if (code_show){\n",
    " $('div.input').hide();\n",
    " } else {\n",
    " $('div.input').show();\n",
    " }\n",
    " code_show = !code_show\n",
    "} \n",
    "$( document ).ready(code_toggle);\n",
    "</script><a href=\"javascript:code_toggle()\">View</a> the widget.''')"
   ]
  },
  {
   "cell_type": "code",
   "execution_count": null,
   "metadata": {},
   "outputs": [],
   "source": []
  }
 ],
 "metadata": {
  "kernelspec": {
   "display_name": "DSI",
   "language": "python",
   "name": "dsi"
  },
  "language_info": {
   "codemirror_mode": {
    "name": "ipython",
    "version": 3
   },
   "file_extension": ".py",
   "mimetype": "text/x-python",
   "name": "python",
   "nbconvert_exporter": "python",
   "pygments_lexer": "ipython3",
   "version": "3.6.8"
  }
 },
 "nbformat": 4,
 "nbformat_minor": 2
}
