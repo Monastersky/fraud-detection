{
 "cells": [
  {
   "cell_type": "markdown",
   "metadata": {},
   "source": [
    "# Creating Widget to Create Live Predictions"
   ]
  },
  {
   "cell_type": "code",
   "execution_count": 1,
   "metadata": {},
   "outputs": [],
   "source": [
    "#Used code from https://github.com/hussainburhani/ds_bike_startup/blob/master/code/mlr_general_cycles_demo.ipynb \n",
    "#for assistance in creating the widget.\n",
    "\n",
    "#Importing Libraries\n",
    "\n",
    "import numpy as np\n",
    "import pandas as pd\n",
    "import matplotlib.pyplot as plt\n",
    "import seaborn as sns\n",
    "\n",
    "from sklearn.pipeline import Pipeline\n",
    "from sklearn.model_selection import GridSearchCV\n",
    "from sklearn.ensemble import RandomForestClassifier\n",
    "\n",
    "from ipywidgets import widgets, interact, interact_manual, fixed\n",
    "from IPython.display import display, clear_output, HTML\n",
    "from imblearn.over_sampling import SMOTE\n"
   ]
  },
  {
   "cell_type": "code",
   "execution_count": 2,
   "metadata": {},
   "outputs": [],
   "source": [
    "#Importing data and creating sample dataframe\n",
    "\n",
    "\n",
    "fraud = pd.read_csv('../data/creditcard.csv')"
   ]
  },
  {
   "cell_type": "code",
   "execution_count": 3,
   "metadata": {},
   "outputs": [],
   "source": [
    "X_fraud = fraud.drop(columns=['Class'])\n",
    "y_fraud = fraud['Class']"
   ]
  },
  {
   "cell_type": "code",
   "execution_count": 4,
   "metadata": {},
   "outputs": [],
   "source": [
    "fraud_only = fraud[fraud[\"Class\"] == 1]\n",
    "non_fraud = fraud[fraud[\"Class\"] == 0].sample(n=50000)"
   ]
  },
  {
   "cell_type": "code",
   "execution_count": 5,
   "metadata": {},
   "outputs": [],
   "source": [
    "sample_fraud = pd.concat([fraud_only, non_fraud])\n",
    "X_30 = sample_fraud.drop(columns=['Class'])\n",
    "y_30 = sample_fraud['Class']"
   ]
  },
  {
   "cell_type": "code",
   "execution_count": 6,
   "metadata": {},
   "outputs": [],
   "source": [
    "sm_30 = SMOTE(sampling_strategy= 1, kind ='regular', random_state=2019)\n",
    "X_sample, y_sample = sm_30.fit_sample(X_30, y_30.ravel())"
   ]
  },
  {
   "cell_type": "code",
   "execution_count": 7,
   "metadata": {},
   "outputs": [],
   "source": [
    "#Creating function to make predictions\n",
    "\n",
    "def on_predict_submit(incoming):\n",
    "    # Insert values into dataframe\n",
    "    X_input = []\n",
    "    X_input = pd.DataFrame(columns=['Time', 'V1', 'V2', 'V3', 'V4','V5', 'V6', 'V7', 'V8', 'V9', 'V10', \n",
    "                                   'V11', 'V12', 'V13', 'V14', 'V15', 'V16', 'V17', 'V18', 'V19', 'V20', 'V21',\n",
    "                                   'V22', 'V23', 'V24', 'V25', 'V26', 'V27', 'V28', 'Amount'])\n",
    "    input_variables = [input_Time.value, input_V1.value, input_V2.value,\n",
    "                   input_V3.value, input_V4.value, input_V5.value, input_V6.value, \n",
    "                   input_V7.value, input_V8.value, input_V9.value, input_V10.value, \n",
    "                   input_V11.value, input_V12.value, input_V13.value, input_V14.value, \n",
    "                   input_V15.value, input_V16.value, input_V17.value, input_V18.value, \n",
    "                   input_V19.value, input_V20.value, input_V21.value, input_V22.value, \n",
    "                   input_V23.value, input_V24.value, input_V25.value, input_V26.value,\n",
    "                   input_V27.value, input_V28.value, input_Amount.value]\n",
    "\n",
    "    X_input.loc[1] = [x for x in input_variables]\n",
    "\n",
    "    def fraud_or_not():\n",
    "        if rf_fitted.predict(X_input)[0] == 0:\n",
    "            return 'not fraud'\n",
    "        elif rf.predict(X_input)[0] == 1:\n",
    "            return 'fraud'\n",
    "        else:\n",
    "            return 'error'\n",
    "    print(f\"The credit card charge is {fraud_or_not()}\")"
   ]
  },
  {
   "cell_type": "code",
   "execution_count": 8,
   "metadata": {
    "scrolled": true
   },
   "outputs": [
    {
     "data": {
      "application/vnd.jupyter.widget-view+json": {
       "model_id": "f19e0ac130134ac28dc7753dac0529d7",
       "version_major": 2,
       "version_minor": 0
      },
      "text/plain": [
       "FloatText(value=100.0, description='Time', step=100.0)"
      ]
     },
     "metadata": {},
     "output_type": "display_data"
    },
    {
     "data": {
      "application/vnd.jupyter.widget-view+json": {
       "model_id": "e16223d82fed497eab4e626d4005fe8e",
       "version_major": 2,
       "version_minor": 0
      },
      "text/plain": [
       "FloatText(value=1.0, description='V1', step=0.1)"
      ]
     },
     "metadata": {},
     "output_type": "display_data"
    },
    {
     "data": {
      "application/vnd.jupyter.widget-view+json": {
       "model_id": "00d3d4f0005b4354b437033893fe7976",
       "version_major": 2,
       "version_minor": 0
      },
      "text/plain": [
       "FloatText(value=1.0, description='V2', step=0.1)"
      ]
     },
     "metadata": {},
     "output_type": "display_data"
    },
    {
     "data": {
      "application/vnd.jupyter.widget-view+json": {
       "model_id": "4fb92c4eabf346c4ad49b003a519d097",
       "version_major": 2,
       "version_minor": 0
      },
      "text/plain": [
       "FloatText(value=1.0, description='V3', step=0.1)"
      ]
     },
     "metadata": {},
     "output_type": "display_data"
    },
    {
     "data": {
      "application/vnd.jupyter.widget-view+json": {
       "model_id": "7f89d075f38847a0ad3027310dda74dc",
       "version_major": 2,
       "version_minor": 0
      },
      "text/plain": [
       "FloatText(value=1.0, description='V4', step=0.1)"
      ]
     },
     "metadata": {},
     "output_type": "display_data"
    },
    {
     "data": {
      "application/vnd.jupyter.widget-view+json": {
       "model_id": "5a31a90a277d4f108f00d59469a48b6c",
       "version_major": 2,
       "version_minor": 0
      },
      "text/plain": [
       "FloatText(value=1.0, description='V5', step=0.1)"
      ]
     },
     "metadata": {},
     "output_type": "display_data"
    },
    {
     "data": {
      "application/vnd.jupyter.widget-view+json": {
       "model_id": "425ddb321c72449c91e85a1054d814bc",
       "version_major": 2,
       "version_minor": 0
      },
      "text/plain": [
       "FloatText(value=1.0, description='V6', step=0.1)"
      ]
     },
     "metadata": {},
     "output_type": "display_data"
    },
    {
     "data": {
      "application/vnd.jupyter.widget-view+json": {
       "model_id": "8a64ed0c44e8471a85480bba124442af",
       "version_major": 2,
       "version_minor": 0
      },
      "text/plain": [
       "FloatText(value=1.0, description='V6', step=0.1)"
      ]
     },
     "metadata": {},
     "output_type": "display_data"
    },
    {
     "data": {
      "application/vnd.jupyter.widget-view+json": {
       "model_id": "23db4293bd1f49ceab13c29c684e0438",
       "version_major": 2,
       "version_minor": 0
      },
      "text/plain": [
       "FloatText(value=1.0, description='V7', step=0.1)"
      ]
     },
     "metadata": {},
     "output_type": "display_data"
    },
    {
     "data": {
      "application/vnd.jupyter.widget-view+json": {
       "model_id": "3e97be6e58cc4b62a5614391526724ba",
       "version_major": 2,
       "version_minor": 0
      },
      "text/plain": [
       "FloatText(value=1.0, description='V8', step=0.1)"
      ]
     },
     "metadata": {},
     "output_type": "display_data"
    },
    {
     "data": {
      "application/vnd.jupyter.widget-view+json": {
       "model_id": "01159fb312794f338b87bdd6e614440a",
       "version_major": 2,
       "version_minor": 0
      },
      "text/plain": [
       "FloatText(value=1.0, description='V9', step=0.1)"
      ]
     },
     "metadata": {},
     "output_type": "display_data"
    },
    {
     "data": {
      "application/vnd.jupyter.widget-view+json": {
       "model_id": "a5da955d34a54d20a8323331b94c207d",
       "version_major": 2,
       "version_minor": 0
      },
      "text/plain": [
       "FloatText(value=1.0, description='V10', step=0.1)"
      ]
     },
     "metadata": {},
     "output_type": "display_data"
    },
    {
     "data": {
      "application/vnd.jupyter.widget-view+json": {
       "model_id": "fb4399c801ad46f59566557b0587176a",
       "version_major": 2,
       "version_minor": 0
      },
      "text/plain": [
       "FloatText(value=1.0, description='V11', step=0.1)"
      ]
     },
     "metadata": {},
     "output_type": "display_data"
    },
    {
     "data": {
      "application/vnd.jupyter.widget-view+json": {
       "model_id": "81eefaecd4b04358a84abf76e4a6de5f",
       "version_major": 2,
       "version_minor": 0
      },
      "text/plain": [
       "FloatText(value=1.0, description='V12', step=0.1)"
      ]
     },
     "metadata": {},
     "output_type": "display_data"
    },
    {
     "data": {
      "application/vnd.jupyter.widget-view+json": {
       "model_id": "912875c69265437bb86cd46acb5ec3bd",
       "version_major": 2,
       "version_minor": 0
      },
      "text/plain": [
       "FloatText(value=1.0, description='V13', step=0.1)"
      ]
     },
     "metadata": {},
     "output_type": "display_data"
    },
    {
     "data": {
      "application/vnd.jupyter.widget-view+json": {
       "model_id": "81079ec929f64f12814283d201206ece",
       "version_major": 2,
       "version_minor": 0
      },
      "text/plain": [
       "FloatText(value=1.0, description='V14', step=0.1)"
      ]
     },
     "metadata": {},
     "output_type": "display_data"
    },
    {
     "data": {
      "application/vnd.jupyter.widget-view+json": {
       "model_id": "4d75d5d8e927490ca471dd015a80801f",
       "version_major": 2,
       "version_minor": 0
      },
      "text/plain": [
       "FloatText(value=1.0, description='V15', step=0.1)"
      ]
     },
     "metadata": {},
     "output_type": "display_data"
    },
    {
     "data": {
      "application/vnd.jupyter.widget-view+json": {
       "model_id": "3b4daa09f8a541d195b5e6e937dc5161",
       "version_major": 2,
       "version_minor": 0
      },
      "text/plain": [
       "FloatText(value=1.0, description='V16', step=0.1)"
      ]
     },
     "metadata": {},
     "output_type": "display_data"
    },
    {
     "data": {
      "application/vnd.jupyter.widget-view+json": {
       "model_id": "bcc911489af64ebfb6b3fddced044f12",
       "version_major": 2,
       "version_minor": 0
      },
      "text/plain": [
       "FloatText(value=1.0, description='V17', step=0.1)"
      ]
     },
     "metadata": {},
     "output_type": "display_data"
    },
    {
     "data": {
      "application/vnd.jupyter.widget-view+json": {
       "model_id": "a3f3282519c04101b7a208c5cd8fbefc",
       "version_major": 2,
       "version_minor": 0
      },
      "text/plain": [
       "FloatText(value=1.0, description='V18', step=0.1)"
      ]
     },
     "metadata": {},
     "output_type": "display_data"
    },
    {
     "data": {
      "application/vnd.jupyter.widget-view+json": {
       "model_id": "a94e6f884fd94160b9a26e7c7e8bebce",
       "version_major": 2,
       "version_minor": 0
      },
      "text/plain": [
       "FloatText(value=1.0, description='V19', step=0.1)"
      ]
     },
     "metadata": {},
     "output_type": "display_data"
    },
    {
     "data": {
      "application/vnd.jupyter.widget-view+json": {
       "model_id": "aad08e0429fb4731b27f9150c80e4c3d",
       "version_major": 2,
       "version_minor": 0
      },
      "text/plain": [
       "FloatText(value=1.0, description='V20', step=0.1)"
      ]
     },
     "metadata": {},
     "output_type": "display_data"
    },
    {
     "data": {
      "application/vnd.jupyter.widget-view+json": {
       "model_id": "4236cfdfc98349609e1c26e28144d4c1",
       "version_major": 2,
       "version_minor": 0
      },
      "text/plain": [
       "FloatText(value=1.0, description='V21', step=0.1)"
      ]
     },
     "metadata": {},
     "output_type": "display_data"
    },
    {
     "data": {
      "application/vnd.jupyter.widget-view+json": {
       "model_id": "267a7ed5058b4414875d2d19f4f9fbf6",
       "version_major": 2,
       "version_minor": 0
      },
      "text/plain": [
       "FloatText(value=1.0, description='V22', step=0.1)"
      ]
     },
     "metadata": {},
     "output_type": "display_data"
    },
    {
     "data": {
      "application/vnd.jupyter.widget-view+json": {
       "model_id": "c794d53fa6b04399b61e21714c302ecb",
       "version_major": 2,
       "version_minor": 0
      },
      "text/plain": [
       "FloatText(value=1.0, description='V23', step=0.1)"
      ]
     },
     "metadata": {},
     "output_type": "display_data"
    },
    {
     "data": {
      "application/vnd.jupyter.widget-view+json": {
       "model_id": "17a1e9209be94b81a1e27439e9366fff",
       "version_major": 2,
       "version_minor": 0
      },
      "text/plain": [
       "FloatText(value=1.0, description='V24', step=0.1)"
      ]
     },
     "metadata": {},
     "output_type": "display_data"
    },
    {
     "data": {
      "application/vnd.jupyter.widget-view+json": {
       "model_id": "14f94e50dc2a4ba4b680b54d2a2f5ae2",
       "version_major": 2,
       "version_minor": 0
      },
      "text/plain": [
       "FloatText(value=1.0, description='V25', step=0.1)"
      ]
     },
     "metadata": {},
     "output_type": "display_data"
    },
    {
     "data": {
      "application/vnd.jupyter.widget-view+json": {
       "model_id": "a18f619b54dd45a28fd06c536903bba0",
       "version_major": 2,
       "version_minor": 0
      },
      "text/plain": [
       "FloatText(value=1.0, description='V26', step=0.1)"
      ]
     },
     "metadata": {},
     "output_type": "display_data"
    },
    {
     "data": {
      "application/vnd.jupyter.widget-view+json": {
       "model_id": "92254a1b1bc44c5bb797bcdb196d4105",
       "version_major": 2,
       "version_minor": 0
      },
      "text/plain": [
       "FloatText(value=1.0, description='V27', step=0.1)"
      ]
     },
     "metadata": {},
     "output_type": "display_data"
    },
    {
     "data": {
      "application/vnd.jupyter.widget-view+json": {
       "model_id": "0752fc4c620a4ea6924ae74cd1a8235b",
       "version_major": 2,
       "version_minor": 0
      },
      "text/plain": [
       "FloatText(value=1.0, description='V28', step=0.1)"
      ]
     },
     "metadata": {},
     "output_type": "display_data"
    },
    {
     "data": {
      "application/vnd.jupyter.widget-view+json": {
       "model_id": "03ea1827a7524bb1843224c3541e7ea8",
       "version_major": 2,
       "version_minor": 0
      },
      "text/plain": [
       "FloatText(value=300.0, description='Amount', step=50.0)"
      ]
     },
     "metadata": {},
     "output_type": "display_data"
    },
    {
     "data": {
      "application/vnd.jupyter.widget-view+json": {
       "model_id": "beb6b46d4e3f41a7930a5d0d296dbb6d",
       "version_major": 2,
       "version_minor": 0
      },
      "text/plain": [
       "Button(description='Predict', icon='check', style=ButtonStyle(), tooltip='Predict')"
      ]
     },
     "metadata": {},
     "output_type": "display_data"
    },
    {
     "name": "stdout",
     "output_type": "stream",
     "text": [
      "The credit card charge is not fraud\n"
     ]
    }
   ],
   "source": [
    "# Creating the widgets for each of my X variables.\n",
    "input_Time = widgets.FloatText(\n",
    "    value=100,\n",
    "    min=0,\n",
    "    max=10_000,\n",
    "    step=100,\n",
    "    description='Time',\n",
    "    disabled=False,\n",
    "    continuous_update=False,\n",
    "    orientation='horizontal',\n",
    "    readout=True,\n",
    "    readout_format='.1f',\n",
    ")\n",
    "display(input_Time)\n",
    "\n",
    "# Input V1\n",
    "\n",
    "input_V1 = widgets.FloatText(\n",
    "    value=1,\n",
    "    min=-10,\n",
    "    max=10,\n",
    "    step=.1,\n",
    "    description='V1',\n",
    "    disabled=False,\n",
    "    continuous_update=False,\n",
    "    orientation='horizontal',\n",
    "    readout=True,\n",
    "    readout_format='.1f',\n",
    ")\n",
    "display(input_V1)\n",
    "\n",
    "# Input is_workingday\n",
    "\n",
    "input_V2 = widgets.FloatText(\n",
    "    value=1,\n",
    "    min=-10,\n",
    "    max=10,\n",
    "    step=.1,\n",
    "    description='V2',\n",
    "    disabled=False,\n",
    "    continuous_update=False,\n",
    "    orientation='horizontal',\n",
    "    readout=True,\n",
    "    readout_format='.1f',\n",
    ")\n",
    "display(input_V2)\n",
    "\n",
    "input_V3 = widgets.FloatText(\n",
    "    value=1,\n",
    "    min=-10,\n",
    "    max=10,\n",
    "    step=.1,\n",
    "    description='V3',\n",
    "    disabled=False,\n",
    "    continuous_update=False,\n",
    "    orientation='horizontal',\n",
    "    readout=True,\n",
    "    readout_format='.1f',\n",
    ")\n",
    "display(input_V3)\n",
    "\n",
    "input_V4 = widgets.FloatText(\n",
    "    value=1,\n",
    "    min=-10,\n",
    "    max=10,\n",
    "    step=.1,\n",
    "    description='V4',\n",
    "    disabled=False,\n",
    "    continuous_update=False,\n",
    "    orientation='horizontal',\n",
    "    readout=True,\n",
    "    readout_format='.1f',\n",
    ")\n",
    "\n",
    "display(input_V4)\n",
    "\n",
    "# Input temp\n",
    "input_V5 = widgets.FloatText(\n",
    "    value=1.0,\n",
    "    min=-10,\n",
    "    max=10,\n",
    "    step=0.1,\n",
    "    description='V5',\n",
    "    disabled=False,\n",
    "    continuous_update=False,\n",
    "    orientation='horizontal',\n",
    "    readout=True,\n",
    "    readout_format='.1f',\n",
    ")\n",
    "display(input_V5)\n",
    "\n",
    "# Input temp_feel\n",
    "input_V6 = widgets.FloatText(\n",
    "    value=1.0,\n",
    "    min=-10,\n",
    "    max=10,\n",
    "    step=0.1,\n",
    "    description='V6',\n",
    "    disabled=False,\n",
    "    continuous_update=False,\n",
    "    orientation='horizontal',\n",
    "    readout=True,\n",
    "    readout_format='.1f',\n",
    ")\n",
    "display(input_V6)\n",
    "\n",
    "# Input humidity\n",
    "input_V6 = widgets.FloatText(\n",
    "    value=1.0,\n",
    "    min=-10,\n",
    "    max=19,\n",
    "    step=0.1,\n",
    "    description='V6',\n",
    "    disabled=False,\n",
    "    continuous_update=False,\n",
    "    orientation='horizontal',\n",
    "    readout=True,\n",
    "    readout_format='.2f',\n",
    ")\n",
    "display(input_V6)\n",
    "\n",
    "# Input windspeed\n",
    "input_V7 = widgets.FloatText(\n",
    "    value=1.0,\n",
    "    min=-10,\n",
    "    max=10,\n",
    "    step=0.1,\n",
    "    description='V7',\n",
    "    disabled=False,\n",
    "    continuous_update=False,\n",
    "    orientation='horizontal',\n",
    "    readout=True,\n",
    "    readout_format='.2f',\n",
    ")\n",
    "display(input_V7)\n",
    "\n",
    "input_V8 = widgets.FloatText(\n",
    "    value=1.0,\n",
    "    min=-10,\n",
    "    max=10,\n",
    "    step=0.1,\n",
    "    description='V8',\n",
    "    disabled=False,\n",
    "    continuous_update=False,\n",
    "    orientation='horizontal',\n",
    "    readout=True,\n",
    "    readout_format='.2f',\n",
    ")\n",
    "display(input_V8)\n",
    "\n",
    "input_V9 = widgets.FloatText(\n",
    "    value=1.0,\n",
    "    min=-10,\n",
    "    max=10,\n",
    "    step=0.1,\n",
    "    description='V9',\n",
    "    disabled=False,\n",
    "    continuous_update=False,\n",
    "    orientation='horizontal',\n",
    "    readout=True,\n",
    "    readout_format='.2f',\n",
    ")\n",
    "display(input_V9)\n",
    "\n",
    "input_V10 = widgets.FloatText(\n",
    "    value=1.0,\n",
    "    min=-10,\n",
    "    max=10,\n",
    "    step=0.1,\n",
    "    description='V10',\n",
    "    disabled=False,\n",
    "    continuous_update=False,\n",
    "    orientation='horizontal',\n",
    "    readout=True,\n",
    "    readout_format='.2f',\n",
    ")\n",
    "display(input_V10)\n",
    "\n",
    "input_V11 = widgets.FloatText(\n",
    "    value=1.0,\n",
    "    min=-10,\n",
    "    max=10,\n",
    "    step=0.1,\n",
    "    description='V11',\n",
    "    disabled=False,\n",
    "    continuous_update=False,\n",
    "    orientation='horizontal',\n",
    "    readout=True,\n",
    "    readout_format='.2f',\n",
    ")\n",
    "display(input_V11)\n",
    "\n",
    "input_V12 = widgets.FloatText(\n",
    "    value=1.0,\n",
    "    min=-10,\n",
    "    max=10,\n",
    "    step=0.1,\n",
    "    description='V12',\n",
    "    disabled=False,\n",
    "    continuous_update=False,\n",
    "    orientation='horizontal',\n",
    "    readout=True,\n",
    "    readout_format='.2f',\n",
    ")\n",
    "display(input_V12)\n",
    "\n",
    "input_V13 = widgets.FloatText(\n",
    "    value=1.0,\n",
    "    min=-10,\n",
    "    max=10,\n",
    "    step=0.1,\n",
    "    description='V13',\n",
    "    disabled=False,\n",
    "    continuous_update=False,\n",
    "    orientation='horizontal',\n",
    "    readout=True,\n",
    "    readout_format='.2f',\n",
    ")\n",
    "display(input_V13)\n",
    "\n",
    "input_V14 = widgets.FloatText(\n",
    "    value=1.0,\n",
    "    min=-10,\n",
    "    max=10,\n",
    "    step=0.1,\n",
    "    description='V14',\n",
    "    disabled=False,\n",
    "    continuous_update=False,\n",
    "    orientation='horizontal',\n",
    "    readout=True,\n",
    "    readout_format='.2f',\n",
    ")\n",
    "display(input_V14)\n",
    "\n",
    "input_V15 = widgets.FloatText(\n",
    "    value=1.0,\n",
    "    min=-10,\n",
    "    max=10,\n",
    "    step=0.1,\n",
    "    description='V15',\n",
    "    disabled=False,\n",
    "    continuous_update=False,\n",
    "    orientation='horizontal',\n",
    "    readout=True,\n",
    "    readout_format='.2f',\n",
    ")\n",
    "display(input_V15)\n",
    "\n",
    "input_V16 = widgets.FloatText(\n",
    "    value=1.0,\n",
    "    min=-10,\n",
    "    max=10,\n",
    "    step=0.1,\n",
    "    description='V16',\n",
    "    disabled=False,\n",
    "    continuous_update=False,\n",
    "    orientation='horizontal',\n",
    "    readout=True,\n",
    "    readout_format='.2f',\n",
    ")\n",
    "display(input_V16)\n",
    "\n",
    "input_V17 = widgets.FloatText(\n",
    "    value=1.0,\n",
    "    min=-10,\n",
    "    max=10,\n",
    "    step=0.1,\n",
    "    description='V17',\n",
    "    disabled=False,\n",
    "    continuous_update=False,\n",
    "    orientation='horizontal',\n",
    "    readout=True,\n",
    "    readout_format='.2f',\n",
    ")\n",
    "display(input_V17)\n",
    "\n",
    "input_V18 = widgets.FloatText(\n",
    "    value=1.0,\n",
    "    min=-10,\n",
    "    max=10,\n",
    "    step=0.1,\n",
    "    description='V18',\n",
    "    disabled=False,\n",
    "    continuous_update=False,\n",
    "    orientation='horizontal',\n",
    "    readout=True,\n",
    "    readout_format='.2f',\n",
    ")\n",
    "display(input_V18)\n",
    "\n",
    "input_V19 = widgets.FloatText(\n",
    "    value=1.0,\n",
    "    min=-10,\n",
    "    max=10,\n",
    "    step=0.1,\n",
    "    description='V19',\n",
    "    disabled=False,\n",
    "    continuous_update=False,\n",
    "    orientation='horizontal',\n",
    "    readout=True,\n",
    "    readout_format='.2f',\n",
    ")\n",
    "display(input_V19)\n",
    "\n",
    "input_V20 = widgets.FloatText(\n",
    "    value=1.0,\n",
    "    min=-10,\n",
    "    max=10,\n",
    "    step=0.1,\n",
    "    description='V20',\n",
    "    disabled=False,\n",
    "    continuous_update=False,\n",
    "    orientation='horizontal',\n",
    "    readout=True,\n",
    "    readout_format='.2f',\n",
    ")\n",
    "display(input_V20)\n",
    "\n",
    "input_V21 = widgets.FloatText(\n",
    "    value=1.0,\n",
    "    min=-10,\n",
    "    max=10,\n",
    "    step=0.1,\n",
    "    description='V21',\n",
    "    disabled=False,\n",
    "    continuous_update=False,\n",
    "    orientation='horizontal',\n",
    "    readout=True,\n",
    "    readout_format='.2f',\n",
    ")\n",
    "display(input_V21)\n",
    "\n",
    "input_V22 = widgets.FloatText(\n",
    "    value=1.0,\n",
    "    min=-10,\n",
    "    max=10,\n",
    "    step=0.1,\n",
    "    description='V22',\n",
    "    disabled=False,\n",
    "    continuous_update=False,\n",
    "    orientation='horizontal',\n",
    "    readout=True,\n",
    "    readout_format='.2f',\n",
    ")\n",
    "display(input_V22)\n",
    "\n",
    "input_V23 = widgets.FloatText(\n",
    "    value=1.0,\n",
    "    min=-10,\n",
    "    max=10,\n",
    "    step=0.1,\n",
    "    description='V23',\n",
    "    disabled=False,\n",
    "    continuous_update=False,\n",
    "    orientation='horizontal',\n",
    "    readout=True,\n",
    "    readout_format='.2f',\n",
    ")\n",
    "display(input_V23)\n",
    "\n",
    "input_V24 = widgets.FloatText(\n",
    "    value=1.0,\n",
    "    min=-10,\n",
    "    max=10,\n",
    "    step=0.1,\n",
    "    description='V24',\n",
    "    disabled=False,\n",
    "    continuous_update=False,\n",
    "    orientation='horizontal',\n",
    "    readout=True,\n",
    "    readout_format='.2f',\n",
    ")\n",
    "display(input_V24)\n",
    "\n",
    "input_V25 = widgets.FloatText(\n",
    "    value=1.0,\n",
    "    min=-10,\n",
    "    max=10,\n",
    "    step=0.1,\n",
    "    description='V25',\n",
    "    disabled=False,\n",
    "    continuous_update=False,\n",
    "    orientation='horizontal',\n",
    "    readout=True,\n",
    "    readout_format='.2f',\n",
    ")\n",
    "display(input_V25)\n",
    "\n",
    "input_V26 = widgets.FloatText(\n",
    "    value=1.0,\n",
    "    min=-10,\n",
    "    max=10,\n",
    "    step=0.1,\n",
    "    description='V26',\n",
    "    disabled=False,\n",
    "    continuous_update=False,\n",
    "    orientation='horizontal',\n",
    "    readout=True,\n",
    "    readout_format='.2f',\n",
    ")\n",
    "display(input_V26)\n",
    "\n",
    "input_V27 = widgets.FloatText(\n",
    "    value=1.0,\n",
    "    min=-10,\n",
    "    max=10,\n",
    "    step=0.1,\n",
    "    description='V27',\n",
    "    disabled=False,\n",
    "    continuous_update=False,\n",
    "    orientation='horizontal',\n",
    "    readout=True,\n",
    "    readout_format='.2f',\n",
    ")\n",
    "display(input_V27)\n",
    "\n",
    "input_V28 = widgets.FloatText(\n",
    "    value=1.0,\n",
    "    min=-10,\n",
    "    max=10,\n",
    "    step=0.1,\n",
    "    description='V28',\n",
    "    disabled=False,\n",
    "    continuous_update=False,\n",
    "    orientation='horizontal',\n",
    "    readout=True,\n",
    "    readout_format='.2f',\n",
    ")\n",
    "display(input_V28)\n",
    "\n",
    "input_Amount = widgets.FloatText(\n",
    "    value=300.0,\n",
    "    min=0,\n",
    "    max=100_000,\n",
    "    step=50,\n",
    "    description='Amount',\n",
    "    disabled=False,\n",
    "    continuous_update=False,\n",
    "    orientation='horizontal',\n",
    "    readout=True,\n",
    "    readout_format='.1f',\n",
    ")\n",
    "display(input_Amount)\n",
    "\n",
    "# Input Predict\n",
    "input_predict = widgets.Button(\n",
    "    value=False,\n",
    "    description='Predict',\n",
    "    disabled=False,\n",
    "    button_style='', # 'success', 'info', 'warning', 'danger' or ''\n",
    "    tooltip='Predict',\n",
    "    icon='check'\n",
    ")\n",
    "display(input_predict)\n",
    "input_predict.on_click(on_predict_submit)"
   ]
  },
  {
   "cell_type": "code",
   "execution_count": 9,
   "metadata": {},
   "outputs": [],
   "source": [
    "#Create my random forest model and fit my data.\n",
    "\n",
    "rf = RandomForestClassifier(max_features='log2', n_estimators=300)\n",
    "rf_fitted = rf.fit(X_sample, y_sample)"
   ]
  },
  {
   "cell_type": "code",
   "execution_count": 10,
   "metadata": {},
   "outputs": [
    {
     "data": {
      "text/html": [
       "<script>\n",
       "code_show=true; \n",
       "function code_toggle() {\n",
       " if (code_show){\n",
       " $('div.input').hide();\n",
       " } else {\n",
       " $('div.input').show();\n",
       " }\n",
       " code_show = !code_show\n",
       "} \n",
       "$( document ).ready(code_toggle);\n",
       "</script><a href=\"javascript:code_toggle()\">View</a> the widget."
      ],
      "text/plain": [
       "<IPython.core.display.HTML object>"
      ]
     },
     "execution_count": 10,
     "metadata": {},
     "output_type": "execute_result"
    }
   ],
   "source": [
    "#HTML Code allows you to just to see the widget without the rest of the code\n",
    "\n",
    "HTML('''<script>\n",
    "code_show=true; \n",
    "function code_toggle() {\n",
    " if (code_show){\n",
    " $('div.input').hide();\n",
    " } else {\n",
    " $('div.input').show();\n",
    " }\n",
    " code_show = !code_show\n",
    "} \n",
    "$( document ).ready(code_toggle);\n",
    "</script><a href=\"javascript:code_toggle()\">View</a> the widget.''')"
   ]
  },
  {
   "cell_type": "code",
   "execution_count": null,
   "metadata": {},
   "outputs": [],
   "source": []
  }
 ],
 "metadata": {
  "kernelspec": {
   "display_name": "DSI",
   "language": "python",
   "name": "dsi"
  },
  "language_info": {
   "codemirror_mode": {
    "name": "ipython",
    "version": 3
   },
   "file_extension": ".py",
   "mimetype": "text/x-python",
   "name": "python",
   "nbconvert_exporter": "python",
   "pygments_lexer": "ipython3",
   "version": "3.6.8"
  }
 },
 "nbformat": 4,
 "nbformat_minor": 2
}
