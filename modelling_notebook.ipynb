{
 "cells": [
  {
   "cell_type": "markdown",
   "metadata": {},
   "source": [
    "# Frequentist Models"
   ]
  },
  {
   "cell_type": "code",
   "execution_count": 1,
   "metadata": {},
   "outputs": [],
   "source": [
    "import pandas as pd\n",
    "import numpy as np\n",
    "import matplotlib.pyplot as plt\n",
    "import matplotlib\n",
    "import seaborn as sns\n",
    "from sklearn.model_selection import train_test_split, GridSearchCV\n",
    "from sklearn.preprocessing import StandardScaler\n",
    "from sklearn.linear_model import LogisticRegression\n",
    "from sklearn.metrics import confusion_matrix, precision_recall_curve, auc, roc_auc_score, roc_curve, recall_score, classification_report, f1_score, accuracy_score\n",
    "from imblearn.over_sampling import SMOTE\n",
    "from sklearn.ensemble import RandomForestClassifier, GradientBoostingClassifier\n",
    "from sklearn.pipeline import Pipeline\n",
    "from sklearn.neighbors import KNeighborsClassifier\n",
    "from imblearn.pipeline import make_pipeline\n",
    "from xgboost import XGBClassifier\n",
    "import pymc3 as pm\n",
    "from scipy.stats import mode\n",
    "from sklearn.cluster import KMeans\n",
    "from sklearn.svm import SVC\n",
    "import sklearn.metrics as metrics\n",
    "import math as math"
   ]
  },
  {
   "cell_type": "markdown",
   "metadata": {},
   "source": [
    "## 1) Creating a sample dataset that is a subset of my population to train my models on."
   ]
  },
  {
   "cell_type": "code",
   "execution_count": 2,
   "metadata": {},
   "outputs": [],
   "source": [
    "fraud = pd.read_csv('../data/creditcard.csv')"
   ]
  },
  {
   "cell_type": "code",
   "execution_count": 3,
   "metadata": {},
   "outputs": [],
   "source": [
    "X_fraud = fraud.drop(columns=['Class'])\n",
    "y_fraud = fraud['Class']"
   ]
  },
  {
   "cell_type": "code",
   "execution_count": 4,
   "metadata": {},
   "outputs": [],
   "source": [
    "fraud_only = fraud[fraud[\"Class\"] == 1]\n",
    "non_fraud = fraud[fraud[\"Class\"] == 0].sample(n=50000)"
   ]
  },
  {
   "cell_type": "code",
   "execution_count": 5,
   "metadata": {},
   "outputs": [],
   "source": [
    "sample_fraud = pd.concat([fraud_only, non_fraud])\n",
    "X_30 = sample_fraud.drop(columns=['Class'])\n",
    "y_30 = sample_fraud['Class']"
   ]
  },
  {
   "cell_type": "markdown",
   "metadata": {},
   "source": [
    "### Using SMOTE to oversample the minority class and undersample the majority class."
   ]
  },
  {
   "cell_type": "code",
   "execution_count": 6,
   "metadata": {},
   "outputs": [],
   "source": [
    "sm_30 = SMOTE(sampling_strategy= 1, kind ='regular', random_state=2019)\n",
    "X_sample, y_sample = sm_30.fit_sample(X_30, y_30.ravel())"
   ]
  },
  {
   "cell_type": "markdown",
   "metadata": {},
   "source": [
    "## 2) Using Logistic Regression to predict instances of fraud."
   ]
  },
  {
   "cell_type": "markdown",
   "metadata": {},
   "source": [
    "#### Printing out my coefficients as odds as well as my accuracy, recall and f1 score to compare against other models."
   ]
  },
  {
   "cell_type": "code",
   "execution_count": 7,
   "metadata": {
    "scrolled": true
   },
   "outputs": [
    {
     "name": "stderr",
     "output_type": "stream",
     "text": [
      "/anaconda3/envs/DSI/lib/python3.6/site-packages/sklearn/model_selection/_split.py:2053: FutureWarning: You should specify a value for 'cv' instead of relying on the default value. The default value will change from 3 to 5 in version 0.22.\n",
      "  warnings.warn(CV_WARNING, FutureWarning)\n"
     ]
    },
    {
     "name": "stdout",
     "output_type": "stream",
     "text": [
      "The coefficients are:  {'Time': 0.6082632060262527, 'V1': 2690.3349568766034, 'V2': 65.74424925481595, 'V3': 94.5546635380279, 'V4': 13.823449037793733, 'V5': 383.07084865660744, 'V6': 0.22644230691258446, 'V7': 0.0006517889055695457, 'V8': 0.055346757338990506, 'V9': 0.2764624059995222, 'V10': 0.004621618737798914, 'V11': 14.291347563272703, 'V12': 0.00022482074788902, 'V13': 0.5998312266533327, 'V14': 2.0181920209722368e-05, 'V15': 0.8190580808645971, 'V16': 0.019938096744240758, 'V17': 6.442529107049411e-06, 'V18': 0.14460308781067577, 'V19': 2.429419284536447, 'V20': 0.24589149284891393, 'V21': 1.059953573770324, 'V22': 3.1378346619739474, 'V23': 3.569381609694835, 'V24': 1.059321670083415, 'V25': 1.0375540334660327, 'V26': 0.9495908157437289, 'V27': 1.2172874411612455, 'V28': 2.2299073535313156, 'Amount': 28.876554182742854}\n",
      "The best parameters are:  {'lr__C': 10, 'lr__multi_class': 'ovr', 'lr__solver': 'liblinear'}\n",
      "The accuracy score is:  0.9910044345820151\n",
      "The recall score is:  0.8983739837398373\n",
      "[[281803   2512]\n",
      " [    50    442]]\n",
      "The f1 score is:  0.2565293093441671\n"
     ]
    }
   ],
   "source": [
    "#https://stackoverflow.com/questions/34649969/how-to-find-the-features-names-of-the-coefficients-using-scikit-linear-regressio\n",
    "pipe_log = Pipeline([\n",
    "    ('sc', StandardScaler()),\n",
    "    ('lr', LogisticRegression(multi_class='ovr'))\n",
    "])\n",
    "pipe_params_log = {\n",
    "    'lr__solver': ['liblinear', 'sag', 'saga'],\n",
    "    'lr__multi_class': ['ovr'],\n",
    "    'lr__C': [.1, 1, 10],\n",
    "    \n",
    "}\n",
    "\n",
    "gs_log = GridSearchCV(pipe_log, pipe_params_log, scoring='f1', n_jobs=-1);\n",
    "#Fit the model with the count vectorizer using the training data\n",
    "gs_log.fit(X_sample, y_sample)\n",
    "\n",
    "classifier = gs_log.best_estimator_.named_steps['lr']\n",
    "coefficients = classifier.coef_\n",
    "coefficients = coefficients.tolist()[0]\n",
    "coefficients = [math.exp(i) for i in coefficients]\n",
    "coef_dict = {}\n",
    "for coef, feat in zip(coefficients, X_fraud.columns):\n",
    "    coef_dict[feat] = coef\n",
    "print('The coefficients are: ', coef_dict)\n",
    "\n",
    "print('The best parameters are: ', gs_log.best_params_)\n",
    "\n",
    "pred = gs_log.predict(X_fraud)\n",
    "\n",
    "print('The accuracy score is: ', accuracy_score(y_fraud, pred))\n",
    "\n",
    "print('The recall score is: ', recall_score(y_fraud, pred))\n",
    "\n",
    "print(confusion_matrix(y_fraud, pred))\n",
    "\n",
    "print('The f1 score is: ', f1_score(y_fraud, pred));"
   ]
  },
  {
   "cell_type": "markdown",
   "metadata": {},
   "source": [
    "### Logistic Regression ROC Curve"
   ]
  },
  {
   "cell_type": "code",
   "execution_count": 8,
   "metadata": {},
   "outputs": [
    {
     "data": {
      "image/png": "[encoded data removed]",
      "text/plain": [
       "<Figure size 432x288 with 1 Axes>"
      ]
     },
     "metadata": {
      "needs_background": "light"
     },
     "output_type": "display_data"
    }
   ],
   "source": [
    "#https://stackoverflow.com/questions/25009284/how-to-plot-roc-curve-in-python\n",
    "fpr, tpr, _ = metrics.roc_curve(y_fraud,  pred)\n",
    "auc = metrics.roc_auc_score(y_fraud, pred)\n",
    "plt.plot(fpr,tpr,label=\"auc=\"+str(auc))\n",
    "plt.plot([0, 1], [0, 1], linestyle='--')\n",
    "plt.legend(loc=4)\n",
    "plt.show()"
   ]
  },
  {
   "cell_type": "markdown",
   "metadata": {},
   "source": [
    "## 3) Using Random Forest Classification to predict instances of fraud."
   ]
  },
  {
   "cell_type": "code",
   "execution_count": 9,
   "metadata": {},
   "outputs": [
    {
     "name": "stderr",
     "output_type": "stream",
     "text": [
      "/anaconda3/envs/DSI/lib/python3.6/site-packages/sklearn/model_selection/_split.py:2053: FutureWarning: You should specify a value for 'cv' instead of relying on the default value. The default value will change from 3 to 5 in version 0.22.\n",
      "  warnings.warn(CV_WARNING, FutureWarning)\n"
     ]
    },
    {
     "name": "stdout",
     "output_type": "stream",
     "text": [
      "{'rand_for__max_features': 'log2', 'rand_for__n_estimators': 300}\n",
      "The accuracy score is:  0.99942417145646\n",
      "The recall score is:  1.0\n",
      "[[284151    164]\n",
      " [     0    492]]\n",
      "The f1 score is:  0.8571428571428571\n"
     ]
    }
   ],
   "source": [
    "pipe_rand_for = Pipeline([\n",
    "    ('sc', StandardScaler()),\n",
    "    ('rand_for', RandomForestClassifier())\n",
    "])\n",
    "pipe_params_rand_for = {\n",
    "    'rand_for__n_estimators': [25, 150, 300],\n",
    "    'rand_for__max_features': ['sqrt', 'log2']  \n",
    "}\n",
    "\n",
    "gs_rand_for = GridSearchCV(pipe_rand_for, pipe_params_rand_for, scoring='recall');\n",
    "#Fit the model with the count vectorizer using the training data\n",
    "gs_rand_for.fit(X_sample, y_sample)\n",
    "\n",
    "print(gs_rand_for.best_params_)\n",
    "\n",
    "pred_rand_for = gs_rand_for.predict(X_fraud)\n",
    "\n",
    "print('The accuracy score is: ', accuracy_score(y_fraud, pred_rand_for))\n",
    "\n",
    "print('The recall score is: ', recall_score(y_fraud, pred_rand_for))\n",
    "\n",
    "print(confusion_matrix(y_fraud, pred_rand_for))\n",
    "\n",
    "print('The f1 score is: ', f1_score(y_fraud, pred_rand_for));"
   ]
  },
  {
   "cell_type": "code",
   "execution_count": 10,
   "metadata": {},
   "outputs": [
    {
     "data": {
      "image/png": "[encoded data removed]",
      "text/plain": [
       "<Figure size 432x288 with 1 Axes>"
      ]
     },
     "metadata": {
      "needs_background": "light"
     },
     "output_type": "display_data"
    }
   ],
   "source": [
    "#https://stackoverflow.com/questions/25009284/how-to-plot-roc-curve-in-python\n",
    "fpr, tpr, _ = metrics.roc_curve(y_fraud,  pred_rand_for)\n",
    "auc = metrics.roc_auc_score(y_fraud, pred_rand_for)\n",
    "plt.plot(fpr,tpr,label=\"auc=\"+str(auc))\n",
    "plt.plot([0, 1], [0, 1], linestyle='--')\n",
    "plt.legend(loc=4)\n",
    "plt.show()"
   ]
  },
  {
   "cell_type": "markdown",
   "metadata": {},
   "source": [
    "## 4) Using Gradient Boosting Classifier to predict instances of fraud."
   ]
  },
  {
   "cell_type": "code",
   "execution_count": 11,
   "metadata": {},
   "outputs": [
    {
     "name": "stderr",
     "output_type": "stream",
     "text": [
      "/anaconda3/envs/DSI/lib/python3.6/site-packages/sklearn/model_selection/_split.py:2053: FutureWarning: You should specify a value for 'cv' instead of relying on the default value. The default value will change from 3 to 5 in version 0.22.\n",
      "  warnings.warn(CV_WARNING, FutureWarning)\n"
     ]
    },
    {
     "name": "stdout",
     "output_type": "stream",
     "text": [
      "{'gr_bo__learning_rate': 1, 'gr_bo__loss': 'exponential', 'gr_bo__min_samples_split': 2, 'gr_bo__n_estimators': 750}\n",
      "The accuracy score is:  0.9990414561439852\n",
      "The recall score is:  1.0\n",
      "[[284042    273]\n",
      " [     0    492]]\n",
      "The f1 score is:  0.7828162291169452\n"
     ]
    }
   ],
   "source": [
    "pipe_gr_bo = Pipeline([\n",
    "    ('sc', StandardScaler()),\n",
    "    ('gr_bo', GradientBoostingClassifier(max_features='sqrt'))\n",
    "])\n",
    "pipe_params_gr_bo = {\n",
    "    'gr_bo__loss': ['exponential'],\n",
    "    'gr_bo__learning_rate': [1],\n",
    "    'gr_bo__n_estimators': [500, 750],\n",
    "    'gr_bo__min_samples_split': [2, 4, 6]\n",
    "}\n",
    "\n",
    "gs_gr_bo = GridSearchCV(pipe_gr_bo, pipe_params_gr_bo, scoring='recall', n_jobs=-1);\n",
    "#Fit the model with the count vectorizer using the training data\n",
    "gs_gr_bo.fit(X_sample, y_sample)\n",
    "\n",
    "print(gs_gr_bo.best_params_)\n",
    "\n",
    "pred_gr_bo = gs_gr_bo.predict(X_fraud)\n",
    "\n",
    "print('The accuracy score is: ', accuracy_score(y_fraud, pred_gr_bo))\n",
    "\n",
    "print('The recall score is: ', recall_score(y_fraud, pred_gr_bo))\n",
    "\n",
    "print(confusion_matrix(y_fraud, pred_gr_bo))\n",
    "\n",
    "print('The f1 score is: ', f1_score(y_fraud, pred_gr_bo));"
   ]
  },
  {
   "cell_type": "code",
   "execution_count": 12,
   "metadata": {},
   "outputs": [
    {
     "data": {
      "image/png": "[encoded data removed]",
      "text/plain": [
       "<Figure size 432x288 with 1 Axes>"
      ]
     },
     "metadata": {
      "needs_background": "light"
     },
     "output_type": "display_data"
    }
   ],
   "source": [
    "#https://stackoverflow.com/questions/25009284/how-to-plot-roc-curve-in-python\n",
    "fpr, tpr, _ = metrics.roc_curve(y_fraud,  pred_gr_bo)\n",
    "auc = metrics.roc_auc_score(y_fraud, pred_gr_bo)\n",
    "plt.plot(fpr,tpr,label=\"auc=\"+str(auc))\n",
    "plt.plot([0, 1], [0, 1], linestyle='--')\n",
    "plt.legend(loc=4)\n",
    "plt.show()"
   ]
  },
  {
   "cell_type": "markdown",
   "metadata": {},
   "source": [
    "## 5) Using Extreme Gradient Boost Classifier to predict instances of fraud."
   ]
  },
  {
   "cell_type": "code",
   "execution_count": 13,
   "metadata": {},
   "outputs": [
    {
     "name": "stderr",
     "output_type": "stream",
     "text": [
      "/anaconda3/envs/DSI/lib/python3.6/site-packages/sklearn/model_selection/_split.py:2053: FutureWarning: You should specify a value for 'cv' instead of relying on the default value. The default value will change from 3 to 5 in version 0.22.\n",
      "  warnings.warn(CV_WARNING, FutureWarning)\n"
     ]
    },
    {
     "name": "stdout",
     "output_type": "stream",
     "text": [
      "{'xb__booster': 'gbtree', 'xb__learning_rate': 0.4, 'xb__max_depth': 6, 'xb__n_estimators': 750}\n",
      "The accuracy score is:  0.9993609707626568\n",
      "The recall score is:  1.0\n",
      "[[284133    182]\n",
      " [     0    492]]\n",
      "The f1 score is:  0.8439108061749571\n"
     ]
    }
   ],
   "source": [
    "pipe_xg = Pipeline([\n",
    "    ('sc', StandardScaler()),\n",
    "    ('xb', XGBClassifier())\n",
    "])\n",
    "pipe_params_xg = {\n",
    "    'xb__max_depth': [6, 9],\n",
    "    'xb__learning_rate': [.4, .9],\n",
    "    'xb__n_estimators': [500, 750],\n",
    "    'xb__booster': ['gbtree']\n",
    "}\n",
    "\n",
    "gs_xg = GridSearchCV(pipe_xg, pipe_params_xg, scoring='recall', n_jobs=-1);\n",
    "#Fit the model with the count vectorizer using the training data\n",
    "gs_xg.fit(X_sample, y_sample)\n",
    "\n",
    "print(gs_xg.best_params_)\n",
    "\n",
    "pred_xg = gs_xg.predict(X_fraud)\n",
    "\n",
    "print('The accuracy score is: ', accuracy_score(y_fraud, pred_xg))\n",
    "\n",
    "print('The recall score is: ', recall_score(y_fraud, pred_xg))\n",
    "\n",
    "print(confusion_matrix(y_fraud, pred_xg))\n",
    "\n",
    "print('The f1 score is: ', f1_score(y_fraud, pred_xg));"
   ]
  },
  {
   "cell_type": "code",
   "execution_count": 14,
   "metadata": {},
   "outputs": [
    {
     "data": {
      "image/png": "[encoded data removed]",
      "text/plain": [
       "<Figure size 432x288 with 1 Axes>"
      ]
     },
     "metadata": {
      "needs_background": "light"
     },
     "output_type": "display_data"
    }
   ],
   "source": [
    "#https://stackoverflow.com/questions/25009284/how-to-plot-roc-curve-in-python\n",
    "fpr, tpr, _ = metrics.roc_curve(y_fraud,  pred_xg)\n",
    "auc = metrics.roc_auc_score(y_fraud, pred_xg)\n",
    "plt.plot(fpr,tpr,label=\"auc=\"+str(auc))\n",
    "plt.plot([0, 1], [0, 1], linestyle='--')\n",
    "plt.legend(loc=4)\n",
    "plt.show()"
   ]
  },
  {
   "cell_type": "markdown",
   "metadata": {},
   "source": [
    "## 6) Using K-Nearest Neighbors Classifier to predict instances of fraud."
   ]
  },
  {
   "cell_type": "code",
   "execution_count": 15,
   "metadata": {
    "scrolled": true
   },
   "outputs": [
    {
     "name": "stderr",
     "output_type": "stream",
     "text": [
      "/anaconda3/envs/DSI/lib/python3.6/site-packages/sklearn/model_selection/_split.py:2053: FutureWarning: You should specify a value for 'cv' instead of relying on the default value. The default value will change from 3 to 5 in version 0.22.\n",
      "  warnings.warn(CV_WARNING, FutureWarning)\n"
     ]
    },
    {
     "name": "stdout",
     "output_type": "stream",
     "text": [
      "{'knn__algorithm': 'kd_tree', 'knn__n_neighbors': 5, 'knn__p': 1, 'knn__weights': 'uniform'}\n",
      "The accuracy score is:  0.99539337165168\n",
      "The recall score is:  1.0\n",
      "[[283003   1312]\n",
      " [     0    492]]\n",
      "The f1 score is:  0.42857142857142855\n"
     ]
    }
   ],
   "source": [
    "pipe_knn = Pipeline([\n",
    "    ('sc', StandardScaler()),\n",
    "    ('knn', KNeighborsClassifier())\n",
    "])\n",
    "pipe_params_knn = {\n",
    "    'knn__n_neighbors': [5],\n",
    "    'knn__weights': ['uniform'],\n",
    "    'knn__p': [1],\n",
    "    'knn__algorithm': ['kd_tree']\n",
    "}\n",
    "\n",
    "gs_knn = GridSearchCV(pipe_knn, pipe_params_knn, scoring='recall', n_jobs=-1);\n",
    "gs_knn.fit(X_sample, y_sample)\n",
    "\n",
    "print(gs_knn.best_params_)\n",
    "\n",
    "pred_knn = gs_knn.predict(X_fraud)\n",
    "\n",
    "print('The accuracy score is: ', accuracy_score(y_fraud, pred_knn))\n",
    "\n",
    "print('The recall score is: ', recall_score(y_fraud, pred_knn))\n",
    "\n",
    "print(confusion_matrix(y_fraud, pred_knn))\n",
    "\n",
    "print('The f1 score is: ', f1_score(y_fraud, pred_knn));"
   ]
  },
  {
   "cell_type": "code",
   "execution_count": 16,
   "metadata": {},
   "outputs": [
    {
     "data": {
      "image/png": "[encoded data removed]",
      "text/plain": [
       "<Figure size 432x288 with 1 Axes>"
      ]
     },
     "metadata": {
      "needs_background": "light"
     },
     "output_type": "display_data"
    }
   ],
   "source": [
    "#https://stackoverflow.com/questions/25009284/how-to-plot-roc-curve-in-python\n",
    "fpr, tpr, _ = metrics.roc_curve(y_fraud,  pred_knn)\n",
    "auc = metrics.roc_auc_score(y_fraud, pred_knn)\n",
    "plt.plot(fpr,tpr,label=\"auc=\"+str(auc))\n",
    "plt.plot([0, 1], [0, 1], linestyle='--')\n",
    "plt.legend(loc=4)\n",
    "plt.show()"
   ]
  },
  {
   "cell_type": "markdown",
   "metadata": {},
   "source": [
    "## 7) Using Support Vector Machines to predict instances of fraud."
   ]
  },
  {
   "cell_type": "code",
   "execution_count": 17,
   "metadata": {
    "scrolled": true
   },
   "outputs": [
    {
     "name": "stderr",
     "output_type": "stream",
     "text": [
      "/anaconda3/envs/DSI/lib/python3.6/site-packages/sklearn/model_selection/_split.py:2053: FutureWarning: You should specify a value for 'cv' instead of relying on the default value. The default value will change from 3 to 5 in version 0.22.\n",
      "  warnings.warn(CV_WARNING, FutureWarning)\n"
     ]
    },
    {
     "name": "stdout",
     "output_type": "stream",
     "text": [
      "{'svc__C': 5, 'svc__gamma': 'scale', 'svc__kernel': 'linear'}\n",
      "The accuracy score is:  0.9926968087160779\n",
      "The recall score is:  0.8963414634146342\n",
      "[[282286   2029]\n",
      " [    51    441]]\n",
      "The f1 score is:  0.29777177582714387\n"
     ]
    }
   ],
   "source": [
    "pipe_svc = Pipeline([\n",
    "    ('sc', StandardScaler()),\n",
    "    ('svc', SVC())\n",
    "])\n",
    "pipe_params_svc = {\n",
    "    'svc__kernel': ['linear'],\n",
    "    'svc__C': [3, 5],\n",
    "    'svc__gamma': ['scale']\n",
    "}\n",
    "\n",
    "gs_svc = GridSearchCV(pipe_svc, pipe_params_svc, scoring='recall', n_jobs=-1);\n",
    "gs_svc.fit(X_sample, y_sample)\n",
    "\n",
    "print(gs_svc.best_params_)\n",
    "\n",
    "pred_svc = gs_svc.predict(X_fraud)\n",
    "\n",
    "print('The accuracy score is: ', accuracy_score(y_fraud, pred_svc))\n",
    "\n",
    "print('The recall score is: ', recall_score(y_fraud, pred_svc))\n",
    "\n",
    "print(confusion_matrix(y_fraud, pred_svc))\n",
    "\n",
    "print('The f1 score is: ', f1_score(y_fraud, pred_svc));"
   ]
  },
  {
   "cell_type": "code",
   "execution_count": 18,
   "metadata": {},
   "outputs": [
    {
     "data": {
      "image/png": "[encoded data removed]",
      "text/plain": [
       "<Figure size 432x288 with 1 Axes>"
      ]
     },
     "metadata": {
      "needs_background": "light"
     },
     "output_type": "display_data"
    }
   ],
   "source": [
    "#https://stackoverflow.com/questions/25009284/how-to-plot-roc-curve-in-python\n",
    "fpr, tpr, _ = metrics.roc_curve(y_fraud,  pred_svc)\n",
    "auc = metrics.roc_auc_score(y_fraud, pred_svc)\n",
    "plt.plot(fpr,tpr,label=\"auc=\"+str(auc))\n",
    "plt.plot([0, 1], [0, 1], linestyle='--')\n",
    "plt.legend(loc=4)\n",
    "plt.show()"
   ]
  },
  {
   "cell_type": "markdown",
   "metadata": {},
   "source": [
    "## 8) Using the unsupervised model K-Means to predict instances of fraud."
   ]
  },
  {
   "cell_type": "code",
   "execution_count": 19,
   "metadata": {},
   "outputs": [],
   "source": [
    "ss_sample = StandardScaler()\n",
    "ss_fraud = StandardScaler()\n",
    "X_sc_sample = ss_sample.fit_transform(X_sample)\n",
    "X_sc_fraud = ss_fraud.fit_transform(X_fraud)"
   ]
  },
  {
   "cell_type": "code",
   "execution_count": 20,
   "metadata": {},
   "outputs": [
    {
     "name": "stdout",
     "output_type": "stream",
     "text": [
      "45    282461\n",
      "43      1455\n",
      "68       834\n",
      "40        35\n",
      "27        10\n",
      "59         4\n",
      "11         3\n",
      "54         2\n",
      "48         1\n",
      "20         1\n",
      "19         1\n",
      "dtype: int64\n"
     ]
    }
   ],
   "source": [
    "km = KMeans(n_clusters=70)\n",
    "km.fit(X_sc_sample)\n",
    "pred_km = km.predict(X_fraud)\n",
    "print(pd.Series(pred_km).value_counts())"
   ]
  },
  {
   "cell_type": "code",
   "execution_count": 21,
   "metadata": {},
   "outputs": [],
   "source": [
    "kmeans_df = pd.DataFrame(data = [pred_km, y_fraud])\n",
    "kmeans_df = kmeans_df.T\n",
    "kmeans_df = kmeans_df.rename(columns={0: 'pred', 1: 'actual'})"
   ]
  },
  {
   "cell_type": "code",
   "execution_count": 22,
   "metadata": {
    "scrolled": true
   },
   "outputs": [
    {
     "data": {
      "text/html": [
       "<div>\n",
       "<style scoped>\n",
       "    .dataframe tbody tr th:only-of-type {\n",
       "        vertical-align: middle;\n",
       "    }\n",
       "\n",
       "    .dataframe tbody tr th {\n",
       "        vertical-align: top;\n",
       "    }\n",
       "\n",
       "    .dataframe thead th {\n",
       "        text-align: right;\n",
       "    }\n",
       "</style>\n",
       "<table border=\"1\" class=\"dataframe\">\n",
       "  <thead>\n",
       "    <tr style=\"text-align: right;\">\n",
       "      <th></th>\n",
       "      <th>actual</th>\n",
       "    </tr>\n",
       "    <tr>\n",
       "      <th>pred</th>\n",
       "      <th></th>\n",
       "    </tr>\n",
       "  </thead>\n",
       "  <tbody>\n",
       "    <tr>\n",
       "      <th>11</th>\n",
       "      <td>3</td>\n",
       "    </tr>\n",
       "    <tr>\n",
       "      <th>19</th>\n",
       "      <td>1</td>\n",
       "    </tr>\n",
       "    <tr>\n",
       "      <th>20</th>\n",
       "      <td>1</td>\n",
       "    </tr>\n",
       "    <tr>\n",
       "      <th>27</th>\n",
       "      <td>10</td>\n",
       "    </tr>\n",
       "    <tr>\n",
       "      <th>40</th>\n",
       "      <td>35</td>\n",
       "    </tr>\n",
       "    <tr>\n",
       "      <th>43</th>\n",
       "      <td>1455</td>\n",
       "    </tr>\n",
       "    <tr>\n",
       "      <th>45</th>\n",
       "      <td>282461</td>\n",
       "    </tr>\n",
       "    <tr>\n",
       "      <th>48</th>\n",
       "      <td>1</td>\n",
       "    </tr>\n",
       "    <tr>\n",
       "      <th>54</th>\n",
       "      <td>2</td>\n",
       "    </tr>\n",
       "    <tr>\n",
       "      <th>59</th>\n",
       "      <td>4</td>\n",
       "    </tr>\n",
       "    <tr>\n",
       "      <th>68</th>\n",
       "      <td>834</td>\n",
       "    </tr>\n",
       "  </tbody>\n",
       "</table>\n",
       "</div>"
      ],
      "text/plain": [
       "      actual\n",
       "pred        \n",
       "11         3\n",
       "19         1\n",
       "20         1\n",
       "27        10\n",
       "40        35\n",
       "43      1455\n",
       "45    282461\n",
       "48         1\n",
       "54         2\n",
       "59         4\n",
       "68       834"
      ]
     },
     "execution_count": 22,
     "metadata": {},
     "output_type": "execute_result"
    }
   ],
   "source": [
    "kmeans_df.groupby(['pred']).count()"
   ]
  },
  {
   "cell_type": "code",
   "execution_count": 23,
   "metadata": {},
   "outputs": [
    {
     "data": {
      "text/html": [
       "<div>\n",
       "<style scoped>\n",
       "    .dataframe tbody tr th:only-of-type {\n",
       "        vertical-align: middle;\n",
       "    }\n",
       "\n",
       "    .dataframe tbody tr th {\n",
       "        vertical-align: top;\n",
       "    }\n",
       "\n",
       "    .dataframe thead th {\n",
       "        text-align: right;\n",
       "    }\n",
       "</style>\n",
       "<table border=\"1\" class=\"dataframe\">\n",
       "  <thead>\n",
       "    <tr style=\"text-align: right;\">\n",
       "      <th></th>\n",
       "      <th>actual</th>\n",
       "    </tr>\n",
       "    <tr>\n",
       "      <th>pred</th>\n",
       "      <th></th>\n",
       "    </tr>\n",
       "  </thead>\n",
       "  <tbody>\n",
       "    <tr>\n",
       "      <th>11</th>\n",
       "      <td>0</td>\n",
       "    </tr>\n",
       "    <tr>\n",
       "      <th>19</th>\n",
       "      <td>0</td>\n",
       "    </tr>\n",
       "    <tr>\n",
       "      <th>20</th>\n",
       "      <td>0</td>\n",
       "    </tr>\n",
       "    <tr>\n",
       "      <th>27</th>\n",
       "      <td>0</td>\n",
       "    </tr>\n",
       "    <tr>\n",
       "      <th>40</th>\n",
       "      <td>0</td>\n",
       "    </tr>\n",
       "    <tr>\n",
       "      <th>43</th>\n",
       "      <td>3</td>\n",
       "    </tr>\n",
       "    <tr>\n",
       "      <th>45</th>\n",
       "      <td>487</td>\n",
       "    </tr>\n",
       "    <tr>\n",
       "      <th>48</th>\n",
       "      <td>0</td>\n",
       "    </tr>\n",
       "    <tr>\n",
       "      <th>54</th>\n",
       "      <td>0</td>\n",
       "    </tr>\n",
       "    <tr>\n",
       "      <th>59</th>\n",
       "      <td>0</td>\n",
       "    </tr>\n",
       "    <tr>\n",
       "      <th>68</th>\n",
       "      <td>2</td>\n",
       "    </tr>\n",
       "  </tbody>\n",
       "</table>\n",
       "</div>"
      ],
      "text/plain": [
       "      actual\n",
       "pred        \n",
       "11         0\n",
       "19         0\n",
       "20         0\n",
       "27         0\n",
       "40         0\n",
       "43         3\n",
       "45       487\n",
       "48         0\n",
       "54         0\n",
       "59         0\n",
       "68         2"
      ]
     },
     "execution_count": 23,
     "metadata": {},
     "output_type": "execute_result"
    }
   ],
   "source": [
    "kmeans_df.groupby(['pred']).sum()"
   ]
  },
  {
   "cell_type": "code",
   "execution_count": null,
   "metadata": {},
   "outputs": [],
   "source": []
  }
 ],
 "metadata": {
  "kernelspec": {
   "display_name": "DSI",
   "language": "python",
   "name": "dsi"
  },
  "language_info": {
   "codemirror_mode": {
    "name": "ipython",
    "version": 3
   },
   "file_extension": ".py",
   "mimetype": "text/x-python",
   "name": "python",
   "nbconvert_exporter": "python",
   "pygments_lexer": "ipython3",
   "version": "3.6.8"
  }
 },
 "nbformat": 4,
 "nbformat_minor": 2
}
